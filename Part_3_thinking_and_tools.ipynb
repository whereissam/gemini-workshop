{
  "cells": [
    {
      "cell_type": "markdown",
      "metadata": {
        "id": "view-in-github",
        "colab_type": "text"
      },
      "source": [
        "<a href=\"https://colab.research.google.com/github/whereissam/gemini-workshop/blob/main/Part_3_thinking_and_tools.ipynb\" target=\"_parent\"><img src=\"https://colab.research.google.com/assets/colab-badge.svg\" alt=\"Open In Colab\"/></a>"
      ]
    },
    {
      "cell_type": "markdown",
      "metadata": {
        "id": "nrD2kWanydfP"
      },
      "source": [
        "##### Copyright 2025 Patrick Loeber"
      ]
    },
    {
      "cell_type": "code",
      "execution_count": null,
      "metadata": {
        "cellView": "form",
        "id": "wrgUJetgydfR"
      },
      "outputs": [],
      "source": [
        "\n",
        "#@title Licensed under the Apache License, Version 2.0 (the \"License\");\n",
        "# you may not use this file except in compliance with the License.\n",
        "# You may obtain a copy of the License at\n",
        "#\n",
        "# https://www.apache.org/licenses/LICENSE-2.0\n",
        "#\n",
        "# Unless required by applicable law or agreed to in writing, software\n",
        "# distributed under the License is distributed on an \"AS IS\" BASIS,\n",
        "# WITHOUT WARRANTIES OR CONDITIONS OF ANY KIND, either express or implied.\n",
        "# See the License for the specific language governing permissions and\n",
        "# limitations under the License."
      ]
    },
    {
      "cell_type": "markdown",
      "metadata": {
        "id": "si1uWsxtj0W6"
      },
      "source": [
        "# Workshop: Build with Gemini (Part 3)\n",
        "\n",
        "<a target=\"_blank\" href=\"https://colab.research.google.com/github/patrickloeber/workshop-build-with-gemini/blob/main/notebooks/part-3-thinking-and-tools.ipynb\"><img src=\"https://colab.research.google.com/assets/colab-badge.svg\" alt=\"Open In Colab\"/></a>\n",
        "\n",
        "This workshop teaches how to build with Gemini using the Gemini API and Python SDK.\n",
        "\n",
        "Course outline:\n",
        "\n",
        "- **[Part1: Quickstart + Text prompting](https://github.com/patrickloeber/workshop-build-with-gemini/blob/main/notebooks/part-1-text-prompting.ipynb)**\n",
        "\n",
        "- **[Part 2: Multimodal understanding (image, video, audio, docs, code)](https://github.com/patrickloeber/workshop-build-with-gemini/blob/main/notebooks/part-2-multimodal-understanding.ipynb)**\n",
        "\n",
        "- **Part 3 (this notebook): Thinking models + agentic capabilities (tool usage)**\n",
        "  - Thinking models\n",
        "  - Structured outputps\n",
        "  - Code execution\n",
        "  - Grounding with Google Search\n",
        "  - Function calling\n",
        "  - Final excercise: Give Gemini access to the PokéAPI to answer Pokémon questions\n",
        "\n",
        "## 0. Use the Google AI Studio as playground\n",
        "\n",
        "Explore and play with all models in the [Google AI Studio](https://aistudio.google.com/apikey).\n",
        "\n",
        "## 1. Setup\n",
        "\n",
        "Get a free API key in the [Google AI Studio](https://aistudio.google.com/apikey) and set up the [Google Gen AI Python SDK](https://github.com/googleapis/python-genai)"
      ]
    },
    {
      "cell_type": "code",
      "execution_count": null,
      "metadata": {
        "id": "7SzjZdf7mwD_"
      },
      "outputs": [],
      "source": [
        "%pip install -U -q google-genai"
      ]
    },
    {
      "cell_type": "code",
      "execution_count": null,
      "metadata": {
        "id": "BF3gXZyFm3Pf"
      },
      "outputs": [],
      "source": [
        "from google.colab import userdata\n",
        "\n",
        "GOOGLE_API_KEY=userdata.get('GOOGLE_API_KEY')"
      ]
    },
    {
      "cell_type": "code",
      "execution_count": null,
      "metadata": {
        "id": "0lajO_7dnFya"
      },
      "outputs": [],
      "source": [
        "from google import genai\n",
        "from google.genai import types\n",
        "\n",
        "client = genai.Client(api_key=GOOGLE_API_KEY)"
      ]
    },
    {
      "cell_type": "markdown",
      "metadata": {
        "id": "drS_GiIih9kw"
      },
      "source": [
        "## Thinking models\n",
        "\n",
        "Starting with Gemini 2.5, all models have thinking capabilities. These models use an internal \"thinking process\" during response generation. This process contributes to their improved reasoning capabilities and allows them to solve complex tasks, particularly complex problems in code, math, and STEM, as well as analyzing large datasets, codebases, and documents.\n",
        "\n",
        "Thinking models are also great at working with tools to perform actions beyond generating text. This allows them to interact with external systems, execute code, or access real-time information, incorporating the results into their reasoning and final response.\n",
        "\n",
        "(Note: Tools are also available with Gemini 2.0 models)"
      ]
    },
    {
      "cell_type": "code",
      "execution_count": null,
      "metadata": {
        "id": "uqCNX_91q2YN"
      },
      "outputs": [],
      "source": [
        "MODEL = \"gemini-2.5-pro-exp-03-25\"  # with paid tier: gemini-2.5-pro-preview-03-25"
      ]
    },
    {
      "cell_type": "code",
      "execution_count": null,
      "metadata": {
        "id": "6iRjV4L-sMxp"
      },
      "outputs": [],
      "source": [
        "# TODO"
      ]
    },
    {
      "cell_type": "markdown",
      "source": [
        "## **!! Exercise !!** ##\n",
        "\n",
        "- Go to [Google AI Studio](https://ai.dev/?model=gemini-2.5-pro-preview-03-25), use Gemini 2.5 Pro, give it a complex task, and pbserve the thinking process. For example, create a p5js game in one shot:\n",
        "\n",
        "```\n",
        "Make a p5js soccer game simulation. There should be 2 teams and each player on the team should have their path traveled displayed. Add live stats on the right side and score in the top bar. no HTML\n",
        "```"
      ],
      "metadata": {
        "id": "lCenTU9B0RiC"
      }
    },
    {
      "cell_type": "markdown",
      "metadata": {
        "id": "P-qkPEabTURX"
      },
      "source": [
        "## Structured output\n",
        "\n",
        "Gemini generates unstructured text by default, but some applications require structured text. For these use cases, you can constrain Gemini to respond with JSON, a structured data format suitable for automated processing. You can also constrain the model to respond with one of the options specified in an enum."
      ]
    },
    {
      "cell_type": "code",
      "execution_count": null,
      "metadata": {
        "id": "ZsnYkEF2Tcm8",
        "outputId": "aed6116c-c4eb-4dca-e2da-59a9e28be74d",
        "colab": {
          "base_uri": "https://localhost:8080/"
        }
      },
      "outputs": [
        {
          "output_type": "stream",
          "name": "stdout",
          "text": [
            "[\n",
            "  {\n",
            "    \"recipe_name\": \"Classic Chocolate Chip Cookies\",\n",
            "    \"ingredients\": [\n",
            "      \"2 1/4 cups all-purpose flour\",\n",
            "      \"1 tsp baking soda\",\n",
            "      \"1 tsp salt\",\n",
            "      \"1 cup (2 sticks) unsalted butter, softened\",\n",
            "      \"3/4 cup granulated sugar\",\n",
            "      \"3/4 cup packed brown sugar\",\n",
            "      \"1 tsp vanilla extract\",\n",
            "      \"2 large eggs\",\n",
            "      \"2 cups semi-sweet chocolate chips\"\n",
            "    ]\n",
            "  },\n",
            "  {\n",
            "    \"recipe_name\": \"Oatmeal Raisin Cookies\",\n",
            "    \"ingredients\": [\n",
            "      \"1 1/2 cups all-purpose flour\",\n",
            "      \"1 tsp baking soda\",\n",
            "      \"1 tsp ground cinnamon\",\n",
            "      \"1/2 tsp salt\",\n",
            "      \"1 cup (2 sticks) unsalted butter, softened\",\n",
            "      \"1 cup packed light brown sugar\",\n",
            "      \"1/2 cup granulated sugar\",\n",
            "      \"2 large eggs\",\n",
            "      \"1 tsp vanilla extract\",\n",
            "      \"3 cups old-fashioned rolled oats\",\n",
            "      \"1 cup raisins\"\n",
            "    ]\n",
            "  },\n",
            "  {\n",
            "    \"recipe_name\": \"Peanut Butter Cookies\",\n",
            "    \"ingredients\": [\n",
            "      \"1 1/4 cups all-purpose flour\",\n",
            "      \"3/4 tsp baking soda\",\n",
            "      \"1/2 tsp baking powder\",\n",
            "      \"1/4 tsp salt\",\n",
            "      \"1/2 cup unsalted butter, softened\",\n",
            "      \"1/2 cup creamy peanut butter\",\n",
            "      \"1/2 cup granulated sugar\",\n",
            "      \"1/2 cup packed light brown sugar\",\n",
            "      \"1 large egg\",\n",
            "      \"1 tsp vanilla extract\"\n",
            "    ]\n",
            "  }\n",
            "]\n"
          ]
        }
      ],
      "source": [
        "from pydantic import BaseModel\n",
        "\n",
        "class Recipe(BaseModel):\n",
        "  recipe_name: str\n",
        "  ingredients: list[str]\n",
        "\n",
        "response = client.models.generate_content(\n",
        "    model=MODEL,\n",
        "    contents='List a three popular cookie recipes. Be sure to include the amounts of ingredients.',\n",
        "    config={\n",
        "        'response_mime_type': 'application/json',\n",
        "        'response_schema': list[Recipe],\n",
        "    },\n",
        ")\n",
        "# Use the response as a JSON string.\n",
        "print(response.text)\n",
        "\n",
        "# Use instantiated objects.\n",
        "my_recipes: list[Recipe] = response.parsed"
      ]
    },
    {
      "cell_type": "markdown",
      "metadata": {
        "id": "Qp8wv9jstl96"
      },
      "source": [
        "Contrain to enums:"
      ]
    },
    {
      "cell_type": "code",
      "execution_count": null,
      "metadata": {
        "id": "jQbvMIvuLUUE"
      },
      "outputs": [],
      "source": [
        "# TODO\n"
      ]
    },
    {
      "cell_type": "markdown",
      "metadata": {
        "id": "jicpPkAntnud"
      },
      "source": [
        "Or use the builtin Python enum class:"
      ]
    },
    {
      "cell_type": "code",
      "execution_count": null,
      "metadata": {
        "id": "a0W_6JyZN_ED"
      },
      "outputs": [],
      "source": [
        "# TODO"
      ]
    },
    {
      "cell_type": "markdown",
      "metadata": {
        "id": "16C3AP4YOVlc"
      },
      "source": [
        "## Code execution\n",
        "\n",
        "The code execution feature enables the model to generate and run Python code and learn iteratively from the results until it arrives at a final output. You can use this code execution capability to build applications that benefit from code-based reasoning and that produce text output. For example, you could use code execution in an application that solves equations or processes text."
      ]
    },
    {
      "cell_type": "code",
      "execution_count": null,
      "metadata": {
        "id": "SUMFt9wqOgVk"
      },
      "outputs": [],
      "source": [
        "# TODO"
      ]
    },
    {
      "cell_type": "code",
      "execution_count": null,
      "metadata": {
        "id": "0Bgfv66AOjiA"
      },
      "outputs": [],
      "source": [
        "response"
      ]
    },
    {
      "cell_type": "code",
      "execution_count": null,
      "metadata": {
        "id": "Yxo7JHSWOspM"
      },
      "outputs": [],
      "source": [
        "from IPython.display import Image, Markdown, Code, HTML\n",
        "\n",
        "def display_code_execution_result(response):\n",
        "  for part in response.candidates[0].content.parts:\n",
        "    if part.text is not None:\n",
        "      display(Markdown(part.text))\n",
        "    if part.executable_code is not None:\n",
        "      code_html = f'<pre style=\"background-color: #6a0cad;\">{part.executable_code.code}</pre>' # Change code color\n",
        "      display(HTML(code_html))\n",
        "    if part.code_execution_result is not None:\n",
        "      display(Markdown(\"#### Output\"))\n",
        "      display(Markdown(part.code_execution_result.output))\n",
        "    if part.inline_data is not None:\n",
        "      display(Image(data=part.inline_data.data, format=\"png\"))\n",
        "    display(Markdown(\"---\"))\n",
        "\n",
        "display_code_execution_result(response)"
      ]
    },
    {
      "cell_type": "markdown",
      "metadata": {
        "id": "W0m5rasbQsDa"
      },
      "source": [
        "## Grounding with Google Search\n",
        "\n",
        "If Google Search is configured as a tool, Gemini can decide when to use Google Search to improve the accuracy and recency of responses.\n",
        "\n",
        "Here's a question about a recent event without Google Search:\n",
        "\n"
      ]
    },
    {
      "cell_type": "code",
      "execution_count": null,
      "metadata": {
        "id": "582GKc2DQ-N6"
      },
      "outputs": [],
      "source": [
        "response = client.models.generate_content(\n",
        "    model=MODEL,\n",
        "    contents=\"Who won the super bowl this year?\",\n",
        ")\n",
        "\n",
        "print(response.text)"
      ]
    },
    {
      "cell_type": "code",
      "execution_count": null,
      "metadata": {
        "id": "SREuxqDSQs1y"
      },
      "outputs": [],
      "source": [
        "# TODO"
      ]
    },
    {
      "cell_type": "code",
      "execution_count": null,
      "metadata": {
        "id": "dnCFGS7nQ9WB"
      },
      "outputs": [],
      "source": [
        "for part in response.candidates[0].content.parts:\n",
        "    print(part.text)"
      ]
    },
    {
      "cell_type": "code",
      "execution_count": null,
      "metadata": {
        "id": "BUgF_qSFQ6KW"
      },
      "outputs": [],
      "source": [
        "# To get grounding metadata as web content.\n",
        "HTML(response.candidates[0].grounding_metadata.search_entry_point.rendered_content)"
      ]
    },
    {
      "cell_type": "markdown",
      "source": [
        "#### **!! Exercise !!**\n",
        "\n",
        "Use Gemini with Google Search for the current weather and the forecast for the next weekend in Berlin"
      ],
      "metadata": {
        "id": "tN2AYpE2yqpQ"
      }
    },
    {
      "cell_type": "code",
      "source": [
        "# TODO"
      ],
      "metadata": {
        "id": "vRkMJFA6yoKt"
      },
      "execution_count": null,
      "outputs": []
    },
    {
      "cell_type": "markdown",
      "metadata": {
        "id": "aKRcuZE_Rjl-"
      },
      "source": [
        "## Function calling\n",
        "\n",
        "Function calling lets you connect models to external tools and APIs. Instead of generating text responses, the model understands when to call specific functions and provides the necessary parameters to execute real-world actions."
      ]
    },
    {
      "cell_type": "code",
      "execution_count": null,
      "metadata": {
        "id": "iL1FX3euRlQN"
      },
      "outputs": [],
      "source": [
        "from google.genai import types\n",
        "\n",
        "# Define the function declaration for the model\n",
        "weather_function = {\n",
        "    \"name\": \"get_current_temperature\",\n",
        "    \"description\": \"Gets the current temperature for a given location.\",\n",
        "    \"parameters\": {\n",
        "        \"type\": \"object\",\n",
        "        \"properties\": {\n",
        "            \"location\": {\n",
        "                \"type\": \"string\",\n",
        "                \"description\": \"The city name\",\n",
        "            },\n",
        "        },\n",
        "        \"required\": [\"location\"],\n",
        "    },\n",
        "}\n",
        "\n",
        "# Configure the client and tools\n",
        "# TODO\n",
        "\n",
        "# Send request with function declarations\n",
        "# TODO"
      ]
    },
    {
      "cell_type": "markdown",
      "source": [
        "Check for a function call"
      ],
      "metadata": {
        "id": "ZbWYwJ1G7s3_"
      }
    },
    {
      "cell_type": "code",
      "execution_count": null,
      "metadata": {
        "id": "-MvimiB5U30c"
      },
      "outputs": [],
      "source": [
        "if response.candidates[0].content.parts[0].function_call:\n",
        "    function_call = response.candidates[0].content.parts[0].function_call\n",
        "    print(f\"Function to call: {function_call.name}\")\n",
        "    print(f\"Arguments: {function_call.args}\")\n",
        "    #  In a real app, you would call your function here:\n",
        "    #  result = get_current_temperature(**function_call.args)\n",
        "else:\n",
        "    print(\"No function call found in the response.\")\n",
        "    print(response.text)"
      ]
    },
    {
      "cell_type": "markdown",
      "metadata": {
        "id": "qpV5sW9B0oBg"
      },
      "source": [
        "### Automatic Function Calling (Python Only)\n",
        "\n",
        "When using the Python SDK, you can provide Python functions directly as tools.\n",
        "\n",
        "The SDK handles the function call and returns the final text."
      ]
    },
    {
      "cell_type": "code",
      "execution_count": null,
      "metadata": {
        "id": "IqL-113f020c"
      },
      "outputs": [],
      "source": [
        "# Define the function with type hints and docstring\n",
        "def get_current_temperature(location: str) -> dict:\n",
        "    # TODO\n",
        "\n",
        "\n",
        "# TODO"
      ]
    },
    {
      "cell_type": "markdown",
      "source": [
        "Check the function calling history:"
      ],
      "metadata": {
        "id": "okP9B1cJ7yKi"
      }
    },
    {
      "cell_type": "code",
      "source": [
        "for content in response.automatic_function_calling_history:\n",
        "    for part in content.parts:\n",
        "        if part.function_call:\n",
        "            print(part.function_call)"
      ],
      "metadata": {
        "id": "gOQwksiK7z1X"
      },
      "execution_count": null,
      "outputs": []
    },
    {
      "cell_type": "markdown",
      "metadata": {
        "id": "ZfnxbheQ5GsO"
      },
      "source": [
        "## Exercise: Get Pokémon stats\n",
        "\n",
        "- Define a function that can work with the PokéAPI and get Pokémon stats.\n",
        "- Endpoint to use: `GET https://pokeapi.co/api/v2/pokemon/<pokekon_name>`\n",
        "- Call Gemini and give it access to the function, then answer questions like: `\"What stats does the Pokemon Squirtle have?\"`\n"
      ]
    },
    {
      "cell_type": "code",
      "execution_count": null,
      "metadata": {
        "id": "bNe1p_BkVOmu"
      },
      "outputs": [],
      "source": [
        "# TODO"
      ]
    },
    {
      "cell_type": "markdown",
      "metadata": {
        "id": "yTWLa3ZZ_yhT"
      },
      "source": [
        "## Recap & Next steps\n",
        "\n",
        "Awesome work! You learned about thinking models with advanced reasoning capabilities and how to combine Gemini with tools for agentic use cases.\n",
        "\n",
        "More helpful resources:\n",
        "\n",
        "- [Thinking docs](https://ai.google.dev/gemini-api/docs/thinking)\n",
        "- [Structured output docs](https://ai.google.dev/gemini-api/docs/structured-output?lang=python)\n",
        "- [Code execution docs](https://ai.google.dev/gemini-api/docs/code-execution?lang=python)\n",
        "- [Grounding docs](https://ai.google.dev/gemini-api/docs/grounding?lang=python)\n",
        "- [Function calling docs](https://ai.google.dev/gemini-api/docs/function-calling?example=weather)\n",
        "\n",
        "🎉🎉**Conratulations, you completed the workshop!**🎉🎉\n",
        "\n",
        "**Next steps**: There's even more you can do with Gemini which we didn't cover in this workshop:\n",
        "\n",
        "- [Image creation and editing with Gemini 2.0](https://github.com/patrickloeber/genai-tutorials/blob/main/notebooks/gemini-image-editing.ipynb)\n",
        "- [Live API: Talk to Gemini and share your camera](https://aistudio.google.com/live) & [Live API cookbook](https://github.com/google-gemini/cookbook/blob/main/quickstarts/Get_started_LiveAPI.ipynb)\n"
      ]
    }
  ],
  "metadata": {
    "colab": {
      "provenance": [],
      "include_colab_link": true
    },
    "kernelspec": {
      "display_name": "Python 3",
      "name": "python3"
    },
    "language_info": {
      "name": "python"
    }
  },
  "nbformat": 4,
  "nbformat_minor": 0
}